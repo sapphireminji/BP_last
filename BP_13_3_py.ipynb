{
  "nbformat": 4,
  "nbformat_minor": 0,
  "metadata": {
    "colab": {
      "provenance": [],
      "authorship_tag": "ABX9TyNGIao6/RJtkO9GdwDd/Khh",
      "include_colab_link": true
    },
    "kernelspec": {
      "name": "python3",
      "display_name": "Python 3"
    },
    "language_info": {
      "name": "python"
    }
  },
  "cells": [
    {
      "cell_type": "markdown",
      "metadata": {
        "id": "view-in-github",
        "colab_type": "text"
      },
      "source": [
        "<a href=\"https://colab.research.google.com/github/sapphireminji/BP_last/blob/main/BP_13_3_py.ipynb\" target=\"_parent\"><img src=\"https://colab.research.google.com/assets/colab-badge.svg\" alt=\"Open In Colab\"/></a>"
      ]
    },
    {
      "cell_type": "code",
      "execution_count": null,
      "metadata": {
        "id": "Q8czJu0iUtaU"
      },
      "outputs": [],
      "source": [
        "from turtle import *\n",
        "class Car:\n",
        "   def__init__(self, speed, color, model):\n",
        "      self.speed = speed\n",
        "      self.color = color\n",
        "      self.model = model\n",
        "      self.turtle = Turtle()\n",
        "      self.turtle.shape(\"car.gif\")\n",
        "\n",
        "   def drive(self):\n",
        "       self.turtle.forward(self.speed)\n",
        "\n",
        "   def left_turn(self):\n",
        "      self.turtle.left(90)\n",
        "\n",
        "register_shape(\"car.gif\")\n",
        "myCar = Car(200, \"red\", \"E-class\")\n",
        "for i in range(100):\n",
        "    myCar.drive()\n",
        "    myCar.left_turn()"
      ]
    }
  ]
}