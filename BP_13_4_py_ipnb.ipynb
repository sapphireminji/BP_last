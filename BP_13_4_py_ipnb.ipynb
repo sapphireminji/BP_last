{
  "nbformat": 4,
  "nbformat_minor": 0,
  "metadata": {
    "colab": {
      "provenance": [],
      "authorship_tag": "ABX9TyPkqXF/uYvcVBHPrvc8syxk",
      "include_colab_link": true
    },
    "kernelspec": {
      "name": "python3",
      "display_name": "Python 3"
    },
    "language_info": {
      "name": "python"
    }
  },
  "cells": [
    {
      "cell_type": "markdown",
      "metadata": {
        "id": "view-in-github",
        "colab_type": "text"
      },
      "source": [
        "<a href=\"https://colab.research.google.com/github/sapphireminji/BP_last/blob/main/BP_13_4_py_ipnb.ipynb\" target=\"_parent\"><img src=\"https://colab.research.google.com/assets/colab-badge.svg\" alt=\"Open In Colab\"/></a>"
      ]
    },
    {
      "cell_type": "code",
      "execution_count": null,
      "metadata": {
        "id": "52y202xbVSYa"
      },
      "outputs": [],
      "source": [
        "from turtle import *\n",
        "class Ball:\n",
        "    def __init__(self, color, size, speed):\n",
        "        # 공의 위치\n",
        "        self.x = 0\n",
        "        self.y = 0\n",
        "\n",
        "        # 공의 속도 백터\n",
        "        self.xspeed = speed\n",
        "        self.yspeed = speed\n",
        "\n",
        "        # 공의 크기\n",
        "        self.size = size\n",
        "\n",
        "        self.turtle = Turtle()\n",
        "        self.turtle.shape(\"circle\")\n",
        "        self.turtle.color(color, color)\n",
        "        self.turtle.resizemode(\"user\")\n",
        "        self.turtle.shapesize(size, size, 10)\n",
        "\n",
        "    # 매소드 정의\n",
        "    def move(self):\n",
        "        self.x += self.xspeed\n",
        "        self.y += self.yspeed\n",
        "        self.turtle.goto(self.x, self.y)\n",
        "\n",
        "ball = Ball(\"red\", 2, 1)\n",
        "for i in range(100):\n",
        "    ball.move()"
      ]
    }
  ]
}