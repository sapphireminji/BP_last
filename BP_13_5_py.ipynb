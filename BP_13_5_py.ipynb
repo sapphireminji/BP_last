{
  "nbformat": 4,
  "nbformat_minor": 0,
  "metadata": {
    "colab": {
      "provenance": [],
      "authorship_tag": "ABX9TyMkPVxP95QC/PNv+ucN4v91",
      "include_colab_link": true
    },
    "kernelspec": {
      "name": "python3",
      "display_name": "Python 3"
    },
    "language_info": {
      "name": "python"
    }
  },
  "cells": [
    {
      "cell_type": "markdown",
      "metadata": {
        "id": "view-in-github",
        "colab_type": "text"
      },
      "source": [
        "<a href=\"https://colab.research.google.com/github/sapphireminji/BP_last/blob/main/BP_13_5_py.ipynb\" target=\"_parent\"><img src=\"https://colab.research.google.com/assets/colab-badge.svg\" alt=\"Open In Colab\"/></a>"
      ]
    },
    {
      "cell_type": "code",
      "execution_count": null,
      "metadata": {
        "id": "tLCGs2LWXXgQ"
      },
      "outputs": [],
      "source": [
        "from turtle import *  # turtle 모듈에서 모든 것을 불러온다.\n",
        "class MyTurtle(Turtle):\n",
        "    def glow(self,x,y):\n",
        "        self.fillcolor(\"red\")\n",
        "\n",
        "turtle = MyTurtle()\n",
        "turtle.shape(\"turtle\")\n",
        "turtle.onclick(turtle.glow)  # 거북이를 클릭하면 색상이 빨간색으로 변경된다."
      ]
    }
  ]
}