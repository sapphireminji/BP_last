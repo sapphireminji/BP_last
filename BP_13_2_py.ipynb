{
  "nbformat": 4,
  "nbformat_minor": 0,
  "metadata": {
    "colab": {
      "provenance": [],
      "name": "BP_13-2-py.ipynb",
      "authorship_tag": "ABX9TyMTd5gPA1BHhhoVdYKljiNz",
      "include_colab_link": true
    },
    "kernelspec": {
      "name": "python3",
      "display_name": "Python 3"
    },
    "language_info": {
      "name": "python"
    }
  },
  "cells": [
    {
      "cell_type": "markdown",
      "metadata": {
        "id": "view-in-github",
        "colab_type": "text"
      },
      "source": [
        "<a href=\"https://colab.research.google.com/github/sapphireminji/BP_last/blob/main/BP_13_2_py.ipynb\" target=\"_parent\"><img src=\"https://colab.research.google.com/assets/colab-badge.svg\" alt=\"Open In Colab\"/></a>"
      ]
    },
    {
      "cell_type": "code",
      "execution_count": null,
      "metadata": {
        "id": "czfnC3_X21Nk"
      },
      "outputs": [],
      "source": [
        "from  turtle import #turtle 모듈에서 모든 것을 불러온다.\n",
        "\n",
        "t1 = Turtle() #거북이 객체를 생성한다.\n",
        "t1.shape(\"circle\")\n",
        "\n",
        "t2 = Turtle() #거북이 객체를 생성한다.\n",
        "t2.shape(\"turtle\")\n",
        "\n",
        "t3 = Turele() #거북이 객체를 생성한다.\n",
        "t3.shape(\"square\")\n",
        "\n",
        "t1.penup()\n",
        "t2.penup()\n",
        "t1.goto(0,100) #거북이를 이동한다.\n",
        "t2.goto(0,50)\n",
        "t1.pendown()  #펜을 내린다.\n",
        "t2.pendown()\n",
        "\n",
        "while True:\n",
        "    t1.circle(100)\n",
        "    t2.circle(150)\n",
        "    t3.circle(200)"
      ]
    }
  ]
}